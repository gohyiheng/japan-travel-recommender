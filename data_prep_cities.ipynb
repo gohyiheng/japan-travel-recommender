{
 "cells": [
  {
   "cell_type": "code",
   "execution_count": 1,
   "id": "ac6a631e",
   "metadata": {},
   "outputs": [],
   "source": [
    "import pandas as pd"
   ]
  },
  {
   "cell_type": "markdown",
   "id": "32329131",
   "metadata": {},
   "source": [
    "## CSV information"
   ]
  },
  {
   "cell_type": "code",
   "execution_count": 2,
   "id": "a4872994",
   "metadata": {},
   "outputs": [],
   "source": [
    "df = pd.read_csv('japan_cities.csv')"
   ]
  },
  {
   "cell_type": "markdown",
   "id": "0f3bef78",
   "metadata": {},
   "source": []
  },
  {
   "cell_type": "code",
   "execution_count": 3,
   "id": "6b8237df",
   "metadata": {},
   "outputs": [
    {
     "data": {
      "text/html": [
       "<div>\n",
       "<style scoped>\n",
       "    .dataframe tbody tr th:only-of-type {\n",
       "        vertical-align: middle;\n",
       "    }\n",
       "\n",
       "    .dataframe tbody tr th {\n",
       "        vertical-align: top;\n",
       "    }\n",
       "\n",
       "    .dataframe thead th {\n",
       "        text-align: right;\n",
       "    }\n",
       "</style>\n",
       "<table border=\"1\" class=\"dataframe\">\n",
       "  <thead>\n",
       "    <tr style=\"text-align: right;\">\n",
       "      <th></th>\n",
       "      <th>Region</th>\n",
       "      <th>Prefecture</th>\n",
       "      <th>City</th>\n",
       "      <th>Link</th>\n",
       "      <th>Description</th>\n",
       "      <th>Rating</th>\n",
       "      <th>Visits</th>\n",
       "      <th>Recommendation</th>\n",
       "    </tr>\n",
       "  </thead>\n",
       "  <tbody>\n",
       "    <tr>\n",
       "      <th>0</th>\n",
       "      <td>Hokkaido</td>\n",
       "      <td>Cities and Resort Towns</td>\n",
       "      <td>Niseko</td>\n",
       "      <td>https://www.japan-guide.com/e/e6720.html</td>\n",
       "      <td>Leading snow resort with lots of powder snow.</td>\n",
       "      <td>4.1</td>\n",
       "      <td>373</td>\n",
       "      <td>Recommended</td>\n",
       "    </tr>\n",
       "    <tr>\n",
       "      <th>1</th>\n",
       "      <td>Hokkaido</td>\n",
       "      <td>Cities and Resort Towns</td>\n",
       "      <td>Sapporo</td>\n",
       "      <td>https://www.japan-guide.com/e/e2163.html</td>\n",
       "      <td>The largest city on the island of Hokkaido.</td>\n",
       "      <td>4.0</td>\n",
       "      <td>2,572</td>\n",
       "      <td>Recommended</td>\n",
       "    </tr>\n",
       "    <tr>\n",
       "      <th>2</th>\n",
       "      <td>Hokkaido</td>\n",
       "      <td>Cities and Resort Towns</td>\n",
       "      <td>Furano</td>\n",
       "      <td>https://www.japan-guide.com/e/e6825.html</td>\n",
       "      <td>Towns with beautiful lavender and flower fields.</td>\n",
       "      <td>4.0</td>\n",
       "      <td>886</td>\n",
       "      <td>Recommended</td>\n",
       "    </tr>\n",
       "    <tr>\n",
       "      <th>3</th>\n",
       "      <td>Hokkaido</td>\n",
       "      <td>Cities and Resort Towns</td>\n",
       "      <td>Noboribetsu</td>\n",
       "      <td>https://www.japan-guide.com/e/e6750.html</td>\n",
       "      <td>Hokkaido's most famous hot spring resort.</td>\n",
       "      <td>4.0</td>\n",
       "      <td>619</td>\n",
       "      <td>Recommended</td>\n",
       "    </tr>\n",
       "    <tr>\n",
       "      <th>4</th>\n",
       "      <td>Hokkaido</td>\n",
       "      <td>Cities and Resort Towns</td>\n",
       "      <td>Hakodate</td>\n",
       "      <td>https://www.japan-guide.com/e/e5350.html</td>\n",
       "      <td>Southernmost city on Hokkaido.</td>\n",
       "      <td>3.9</td>\n",
       "      <td>1,408</td>\n",
       "      <td>Recommended</td>\n",
       "    </tr>\n",
       "    <tr>\n",
       "      <th>5</th>\n",
       "      <td>Hokkaido</td>\n",
       "      <td>Cities and Resort Towns</td>\n",
       "      <td>Otaru</td>\n",
       "      <td>https://www.japan-guide.com/e/e6700.html</td>\n",
       "      <td>Harbor city near Sapporo with a canal.</td>\n",
       "      <td>3.9</td>\n",
       "      <td>1,421</td>\n",
       "      <td>Recommended</td>\n",
       "    </tr>\n",
       "    <tr>\n",
       "      <th>6</th>\n",
       "      <td>Hokkaido</td>\n",
       "      <td>Cities and Resort Towns</td>\n",
       "      <td>Matsumae</td>\n",
       "      <td>https://www.japan-guide.com/e/e5380.html</td>\n",
       "      <td>The only former castle town on Hokkaido.</td>\n",
       "      <td>3.6</td>\n",
       "      <td>39</td>\n",
       "      <td>NaN</td>\n",
       "    </tr>\n",
       "    <tr>\n",
       "      <th>7</th>\n",
       "      <td>Hokkaido</td>\n",
       "      <td>Cities and Resort Towns</td>\n",
       "      <td>Asahikawa</td>\n",
       "      <td>https://www.japan-guide.com/e/e6890.html</td>\n",
       "      <td>City in central Hokkaido famous for its zoo.</td>\n",
       "      <td>3.5</td>\n",
       "      <td>638</td>\n",
       "      <td>NaN</td>\n",
       "    </tr>\n",
       "    <tr>\n",
       "      <th>8</th>\n",
       "      <td>Hokkaido</td>\n",
       "      <td>Cities and Resort Towns</td>\n",
       "      <td>Rusutsu</td>\n",
       "      <td>https://www.japan-guide.com/e/e6715.html</td>\n",
       "      <td>Attractive ski resort near Niseko.</td>\n",
       "      <td>3.4</td>\n",
       "      <td>146</td>\n",
       "      <td>NaN</td>\n",
       "    </tr>\n",
       "    <tr>\n",
       "      <th>9</th>\n",
       "      <td>Hokkaido</td>\n",
       "      <td>Cities and Resort Towns</td>\n",
       "      <td>Jozankei Onsen</td>\n",
       "      <td>https://www.japan-guide.com/e/e6745.html</td>\n",
       "      <td>Hot spring resort in the mountains outside cen...</td>\n",
       "      <td>3.4</td>\n",
       "      <td>204</td>\n",
       "      <td>NaN</td>\n",
       "    </tr>\n",
       "  </tbody>\n",
       "</table>\n",
       "</div>"
      ],
      "text/plain": [
       "     Region               Prefecture            City  \\\n",
       "0  Hokkaido  Cities and Resort Towns          Niseko   \n",
       "1  Hokkaido  Cities and Resort Towns         Sapporo   \n",
       "2  Hokkaido  Cities and Resort Towns          Furano   \n",
       "3  Hokkaido  Cities and Resort Towns     Noboribetsu   \n",
       "4  Hokkaido  Cities and Resort Towns        Hakodate   \n",
       "5  Hokkaido  Cities and Resort Towns           Otaru   \n",
       "6  Hokkaido  Cities and Resort Towns        Matsumae   \n",
       "7  Hokkaido  Cities and Resort Towns       Asahikawa   \n",
       "8  Hokkaido  Cities and Resort Towns         Rusutsu   \n",
       "9  Hokkaido  Cities and Resort Towns  Jozankei Onsen   \n",
       "\n",
       "                                       Link  \\\n",
       "0  https://www.japan-guide.com/e/e6720.html   \n",
       "1  https://www.japan-guide.com/e/e2163.html   \n",
       "2  https://www.japan-guide.com/e/e6825.html   \n",
       "3  https://www.japan-guide.com/e/e6750.html   \n",
       "4  https://www.japan-guide.com/e/e5350.html   \n",
       "5  https://www.japan-guide.com/e/e6700.html   \n",
       "6  https://www.japan-guide.com/e/e5380.html   \n",
       "7  https://www.japan-guide.com/e/e6890.html   \n",
       "8  https://www.japan-guide.com/e/e6715.html   \n",
       "9  https://www.japan-guide.com/e/e6745.html   \n",
       "\n",
       "                                         Description  Rating Visits  \\\n",
       "0      Leading snow resort with lots of powder snow.     4.1    373   \n",
       "1        The largest city on the island of Hokkaido.     4.0  2,572   \n",
       "2   Towns with beautiful lavender and flower fields.     4.0    886   \n",
       "3          Hokkaido's most famous hot spring resort.     4.0    619   \n",
       "4                     Southernmost city on Hokkaido.     3.9  1,408   \n",
       "5             Harbor city near Sapporo with a canal.     3.9  1,421   \n",
       "6           The only former castle town on Hokkaido.     3.6     39   \n",
       "7       City in central Hokkaido famous for its zoo.     3.5    638   \n",
       "8                 Attractive ski resort near Niseko.     3.4    146   \n",
       "9  Hot spring resort in the mountains outside cen...     3.4    204   \n",
       "\n",
       "  Recommendation  \n",
       "0    Recommended  \n",
       "1    Recommended  \n",
       "2    Recommended  \n",
       "3    Recommended  \n",
       "4    Recommended  \n",
       "5    Recommended  \n",
       "6            NaN  \n",
       "7            NaN  \n",
       "8            NaN  \n",
       "9            NaN  "
      ]
     },
     "execution_count": 3,
     "metadata": {},
     "output_type": "execute_result"
    }
   ],
   "source": [
    "df.head(10)"
   ]
  },
  {
   "cell_type": "code",
   "execution_count": 4,
   "id": "f6a80dde",
   "metadata": {},
   "outputs": [
    {
     "data": {
      "text/html": [
       "<div>\n",
       "<style scoped>\n",
       "    .dataframe tbody tr th:only-of-type {\n",
       "        vertical-align: middle;\n",
       "    }\n",
       "\n",
       "    .dataframe tbody tr th {\n",
       "        vertical-align: top;\n",
       "    }\n",
       "\n",
       "    .dataframe thead th {\n",
       "        text-align: right;\n",
       "    }\n",
       "</style>\n",
       "<table border=\"1\" class=\"dataframe\">\n",
       "  <thead>\n",
       "    <tr style=\"text-align: right;\">\n",
       "      <th></th>\n",
       "      <th>Region</th>\n",
       "      <th>Prefecture</th>\n",
       "      <th>City</th>\n",
       "      <th>Link</th>\n",
       "      <th>Description</th>\n",
       "      <th>Rating</th>\n",
       "      <th>Visits</th>\n",
       "      <th>Recommendation</th>\n",
       "    </tr>\n",
       "  </thead>\n",
       "  <tbody>\n",
       "    <tr>\n",
       "      <th>357</th>\n",
       "      <td>Kyushu</td>\n",
       "      <td>Kagoshima</td>\n",
       "      <td>Amami Oshima</td>\n",
       "      <td>https://www.japan-guide.com/e/e4690.html</td>\n",
       "      <td>Subtropical island between Kagoshima and Okinawa.</td>\n",
       "      <td>NaN</td>\n",
       "      <td>26</td>\n",
       "      <td>Highly Recommended</td>\n",
       "    </tr>\n",
       "    <tr>\n",
       "      <th>358</th>\n",
       "      <td>Kyushu</td>\n",
       "      <td>Kagoshima</td>\n",
       "      <td>Kirishima</td>\n",
       "      <td>https://www.japan-guide.com/e/e4625.html</td>\n",
       "      <td>National Park with volcanic mountain range.</td>\n",
       "      <td>3.8</td>\n",
       "      <td>294</td>\n",
       "      <td>Recommended</td>\n",
       "    </tr>\n",
       "    <tr>\n",
       "      <th>359</th>\n",
       "      <td>Kyushu</td>\n",
       "      <td>Kagoshima</td>\n",
       "      <td>Kagoshima</td>\n",
       "      <td>https://www.japan-guide.com/e/e4600.html</td>\n",
       "      <td>Southernmost of Kyushu's major cities.</td>\n",
       "      <td>3.8</td>\n",
       "      <td>1,272</td>\n",
       "      <td>Recommended</td>\n",
       "    </tr>\n",
       "    <tr>\n",
       "      <th>360</th>\n",
       "      <td>Kyushu</td>\n",
       "      <td>Kagoshima</td>\n",
       "      <td>Satsuma Peninsula</td>\n",
       "      <td>https://www.japan-guide.com/e/e4675.html</td>\n",
       "      <td>Rural peninsula with hot springs in southern K...</td>\n",
       "      <td>3.8</td>\n",
       "      <td>178</td>\n",
       "      <td>Recommended</td>\n",
       "    </tr>\n",
       "    <tr>\n",
       "      <th>361</th>\n",
       "      <td>Kyushu</td>\n",
       "      <td>Kagoshima</td>\n",
       "      <td>Tokunoshima</td>\n",
       "      <td>https://www.japan-guide.com/e/e4699.html</td>\n",
       "      <td>Subtropical island south of Amami-Oshima</td>\n",
       "      <td>NaN</td>\n",
       "      <td>5</td>\n",
       "      <td>NaN</td>\n",
       "    </tr>\n",
       "    <tr>\n",
       "      <th>362</th>\n",
       "      <td>Okinawa</td>\n",
       "      <td>NaN</td>\n",
       "      <td>Yaeyama Islands</td>\n",
       "      <td>https://www.japan-guide.com/e/e7200.html</td>\n",
       "      <td>Okinawa's southernmost island group.</td>\n",
       "      <td>4.7</td>\n",
       "      <td>248</td>\n",
       "      <td>Must Visit</td>\n",
       "    </tr>\n",
       "    <tr>\n",
       "      <th>363</th>\n",
       "      <td>Okinawa</td>\n",
       "      <td>NaN</td>\n",
       "      <td>Kerama Islands</td>\n",
       "      <td>https://www.japan-guide.com/e/e7190.html</td>\n",
       "      <td>Small island group with beautiful beaches.</td>\n",
       "      <td>4.5</td>\n",
       "      <td>39</td>\n",
       "      <td>Highly Recommended</td>\n",
       "    </tr>\n",
       "    <tr>\n",
       "      <th>364</th>\n",
       "      <td>Okinawa</td>\n",
       "      <td>NaN</td>\n",
       "      <td>Okinawa Island</td>\n",
       "      <td>https://www.japan-guide.com/e/e7101.html</td>\n",
       "      <td>Okinawa Prefecture's main island.</td>\n",
       "      <td>4.5</td>\n",
       "      <td>2,016</td>\n",
       "      <td>Highly Recommended</td>\n",
       "    </tr>\n",
       "    <tr>\n",
       "      <th>365</th>\n",
       "      <td>Okinawa</td>\n",
       "      <td>NaN</td>\n",
       "      <td>Miyako Island</td>\n",
       "      <td>https://www.japan-guide.com/e/e7300.html</td>\n",
       "      <td>Subtropical island with excellent beaches.</td>\n",
       "      <td>4.4</td>\n",
       "      <td>169</td>\n",
       "      <td>Highly Recommended</td>\n",
       "    </tr>\n",
       "    <tr>\n",
       "      <th>366</th>\n",
       "      <td>Okinawa</td>\n",
       "      <td>NaN</td>\n",
       "      <td>Kume Island</td>\n",
       "      <td>https://www.japan-guide.com/e/e7175.html</td>\n",
       "      <td>Small island west of Okinawa Honto.</td>\n",
       "      <td>4.0</td>\n",
       "      <td>56</td>\n",
       "      <td>Recommended</td>\n",
       "    </tr>\n",
       "  </tbody>\n",
       "</table>\n",
       "</div>"
      ],
      "text/plain": [
       "      Region Prefecture               City  \\\n",
       "357   Kyushu  Kagoshima       Amami Oshima   \n",
       "358   Kyushu  Kagoshima          Kirishima   \n",
       "359   Kyushu  Kagoshima          Kagoshima   \n",
       "360   Kyushu  Kagoshima  Satsuma Peninsula   \n",
       "361   Kyushu  Kagoshima        Tokunoshima   \n",
       "362  Okinawa        NaN    Yaeyama Islands   \n",
       "363  Okinawa        NaN     Kerama Islands   \n",
       "364  Okinawa        NaN     Okinawa Island   \n",
       "365  Okinawa        NaN      Miyako Island   \n",
       "366  Okinawa        NaN        Kume Island   \n",
       "\n",
       "                                         Link  \\\n",
       "357  https://www.japan-guide.com/e/e4690.html   \n",
       "358  https://www.japan-guide.com/e/e4625.html   \n",
       "359  https://www.japan-guide.com/e/e4600.html   \n",
       "360  https://www.japan-guide.com/e/e4675.html   \n",
       "361  https://www.japan-guide.com/e/e4699.html   \n",
       "362  https://www.japan-guide.com/e/e7200.html   \n",
       "363  https://www.japan-guide.com/e/e7190.html   \n",
       "364  https://www.japan-guide.com/e/e7101.html   \n",
       "365  https://www.japan-guide.com/e/e7300.html   \n",
       "366  https://www.japan-guide.com/e/e7175.html   \n",
       "\n",
       "                                           Description  Rating Visits  \\\n",
       "357  Subtropical island between Kagoshima and Okinawa.     NaN     26   \n",
       "358        National Park with volcanic mountain range.     3.8    294   \n",
       "359             Southernmost of Kyushu's major cities.     3.8  1,272   \n",
       "360  Rural peninsula with hot springs in southern K...     3.8    178   \n",
       "361           Subtropical island south of Amami-Oshima     NaN      5   \n",
       "362               Okinawa's southernmost island group.     4.7    248   \n",
       "363         Small island group with beautiful beaches.     4.5     39   \n",
       "364                  Okinawa Prefecture's main island.     4.5  2,016   \n",
       "365         Subtropical island with excellent beaches.     4.4    169   \n",
       "366                Small island west of Okinawa Honto.     4.0     56   \n",
       "\n",
       "         Recommendation  \n",
       "357  Highly Recommended  \n",
       "358         Recommended  \n",
       "359         Recommended  \n",
       "360         Recommended  \n",
       "361                 NaN  \n",
       "362          Must Visit  \n",
       "363  Highly Recommended  \n",
       "364  Highly Recommended  \n",
       "365  Highly Recommended  \n",
       "366         Recommended  "
      ]
     },
     "execution_count": 4,
     "metadata": {},
     "output_type": "execute_result"
    }
   ],
   "source": [
    "df.tail(10)"
   ]
  },
  {
   "cell_type": "code",
   "execution_count": 5,
   "id": "cd26452b",
   "metadata": {},
   "outputs": [
    {
     "name": "stdout",
     "output_type": "stream",
     "text": [
      "<class 'pandas.core.frame.DataFrame'>\n",
      "RangeIndex: 367 entries, 0 to 366\n",
      "Data columns (total 8 columns):\n",
      " #   Column          Non-Null Count  Dtype  \n",
      "---  ------          --------------  -----  \n",
      " 0   Region          367 non-null    object \n",
      " 1   Prefecture      362 non-null    object \n",
      " 2   City            367 non-null    object \n",
      " 3   Link            367 non-null    object \n",
      " 4   Description     367 non-null    object \n",
      " 5   Rating          350 non-null    float64\n",
      " 6   Visits          367 non-null    object \n",
      " 7   Recommendation  203 non-null    object \n",
      "dtypes: float64(1), object(7)\n",
      "memory usage: 23.1+ KB\n"
     ]
    }
   ],
   "source": [
    "df.info()"
   ]
  },
  {
   "cell_type": "code",
   "execution_count": 6,
   "id": "a73095f1",
   "metadata": {},
   "outputs": [
    {
     "data": {
      "text/html": [
       "<div>\n",
       "<style scoped>\n",
       "    .dataframe tbody tr th:only-of-type {\n",
       "        vertical-align: middle;\n",
       "    }\n",
       "\n",
       "    .dataframe tbody tr th {\n",
       "        vertical-align: top;\n",
       "    }\n",
       "\n",
       "    .dataframe thead th {\n",
       "        text-align: right;\n",
       "    }\n",
       "</style>\n",
       "<table border=\"1\" class=\"dataframe\">\n",
       "  <thead>\n",
       "    <tr style=\"text-align: right;\">\n",
       "      <th></th>\n",
       "      <th>Region</th>\n",
       "      <th>Prefecture</th>\n",
       "      <th>City</th>\n",
       "      <th>Link</th>\n",
       "      <th>Description</th>\n",
       "      <th>Rating</th>\n",
       "      <th>Visits</th>\n",
       "      <th>Recommendation</th>\n",
       "    </tr>\n",
       "  </thead>\n",
       "  <tbody>\n",
       "    <tr>\n",
       "      <th>count</th>\n",
       "      <td>367</td>\n",
       "      <td>362</td>\n",
       "      <td>367</td>\n",
       "      <td>367</td>\n",
       "      <td>367</td>\n",
       "      <td>350.000000</td>\n",
       "      <td>367</td>\n",
       "      <td>203</td>\n",
       "    </tr>\n",
       "    <tr>\n",
       "      <th>unique</th>\n",
       "      <td>9</td>\n",
       "      <td>47</td>\n",
       "      <td>211</td>\n",
       "      <td>211</td>\n",
       "      <td>211</td>\n",
       "      <td>NaN</td>\n",
       "      <td>191</td>\n",
       "      <td>3</td>\n",
       "    </tr>\n",
       "    <tr>\n",
       "      <th>top</th>\n",
       "      <td>Chubu</td>\n",
       "      <td>Nagano</td>\n",
       "      <td>Oze National Park</td>\n",
       "      <td>https://www.japan-guide.com/e/e7440.html</td>\n",
       "      <td>Popular hiking destination with a marshland.</td>\n",
       "      <td>NaN</td>\n",
       "      <td>53</td>\n",
       "      <td>Recommended</td>\n",
       "    </tr>\n",
       "    <tr>\n",
       "      <th>freq</th>\n",
       "      <td>84</td>\n",
       "      <td>26</td>\n",
       "      <td>3</td>\n",
       "      <td>3</td>\n",
       "      <td>3</td>\n",
       "      <td>NaN</td>\n",
       "      <td>6</td>\n",
       "      <td>142</td>\n",
       "    </tr>\n",
       "    <tr>\n",
       "      <th>mean</th>\n",
       "      <td>NaN</td>\n",
       "      <td>NaN</td>\n",
       "      <td>NaN</td>\n",
       "      <td>NaN</td>\n",
       "      <td>NaN</td>\n",
       "      <td>3.719143</td>\n",
       "      <td>NaN</td>\n",
       "      <td>NaN</td>\n",
       "    </tr>\n",
       "    <tr>\n",
       "      <th>std</th>\n",
       "      <td>NaN</td>\n",
       "      <td>NaN</td>\n",
       "      <td>NaN</td>\n",
       "      <td>NaN</td>\n",
       "      <td>NaN</td>\n",
       "      <td>0.449838</td>\n",
       "      <td>NaN</td>\n",
       "      <td>NaN</td>\n",
       "    </tr>\n",
       "    <tr>\n",
       "      <th>min</th>\n",
       "      <td>NaN</td>\n",
       "      <td>NaN</td>\n",
       "      <td>NaN</td>\n",
       "      <td>NaN</td>\n",
       "      <td>NaN</td>\n",
       "      <td>2.600000</td>\n",
       "      <td>NaN</td>\n",
       "      <td>NaN</td>\n",
       "    </tr>\n",
       "    <tr>\n",
       "      <th>25%</th>\n",
       "      <td>NaN</td>\n",
       "      <td>NaN</td>\n",
       "      <td>NaN</td>\n",
       "      <td>NaN</td>\n",
       "      <td>NaN</td>\n",
       "      <td>3.400000</td>\n",
       "      <td>NaN</td>\n",
       "      <td>NaN</td>\n",
       "    </tr>\n",
       "    <tr>\n",
       "      <th>50%</th>\n",
       "      <td>NaN</td>\n",
       "      <td>NaN</td>\n",
       "      <td>NaN</td>\n",
       "      <td>NaN</td>\n",
       "      <td>NaN</td>\n",
       "      <td>3.700000</td>\n",
       "      <td>NaN</td>\n",
       "      <td>NaN</td>\n",
       "    </tr>\n",
       "    <tr>\n",
       "      <th>75%</th>\n",
       "      <td>NaN</td>\n",
       "      <td>NaN</td>\n",
       "      <td>NaN</td>\n",
       "      <td>NaN</td>\n",
       "      <td>NaN</td>\n",
       "      <td>4.000000</td>\n",
       "      <td>NaN</td>\n",
       "      <td>NaN</td>\n",
       "    </tr>\n",
       "    <tr>\n",
       "      <th>max</th>\n",
       "      <td>NaN</td>\n",
       "      <td>NaN</td>\n",
       "      <td>NaN</td>\n",
       "      <td>NaN</td>\n",
       "      <td>NaN</td>\n",
       "      <td>4.800000</td>\n",
       "      <td>NaN</td>\n",
       "      <td>NaN</td>\n",
       "    </tr>\n",
       "  </tbody>\n",
       "</table>\n",
       "</div>"
      ],
      "text/plain": [
       "       Region Prefecture               City  \\\n",
       "count     367        362                367   \n",
       "unique      9         47                211   \n",
       "top     Chubu     Nagano  Oze National Park   \n",
       "freq       84         26                  3   \n",
       "mean      NaN        NaN                NaN   \n",
       "std       NaN        NaN                NaN   \n",
       "min       NaN        NaN                NaN   \n",
       "25%       NaN        NaN                NaN   \n",
       "50%       NaN        NaN                NaN   \n",
       "75%       NaN        NaN                NaN   \n",
       "max       NaN        NaN                NaN   \n",
       "\n",
       "                                            Link  \\\n",
       "count                                        367   \n",
       "unique                                       211   \n",
       "top     https://www.japan-guide.com/e/e7440.html   \n",
       "freq                                           3   \n",
       "mean                                         NaN   \n",
       "std                                          NaN   \n",
       "min                                          NaN   \n",
       "25%                                          NaN   \n",
       "50%                                          NaN   \n",
       "75%                                          NaN   \n",
       "max                                          NaN   \n",
       "\n",
       "                                         Description      Rating Visits  \\\n",
       "count                                            367  350.000000    367   \n",
       "unique                                           211         NaN    191   \n",
       "top     Popular hiking destination with a marshland.         NaN     53   \n",
       "freq                                               3         NaN      6   \n",
       "mean                                             NaN    3.719143    NaN   \n",
       "std                                              NaN    0.449838    NaN   \n",
       "min                                              NaN    2.600000    NaN   \n",
       "25%                                              NaN    3.400000    NaN   \n",
       "50%                                              NaN    3.700000    NaN   \n",
       "75%                                              NaN    4.000000    NaN   \n",
       "max                                              NaN    4.800000    NaN   \n",
       "\n",
       "       Recommendation  \n",
       "count             203  \n",
       "unique              3  \n",
       "top       Recommended  \n",
       "freq              142  \n",
       "mean              NaN  \n",
       "std               NaN  \n",
       "min               NaN  \n",
       "25%               NaN  \n",
       "50%               NaN  \n",
       "75%               NaN  \n",
       "max               NaN  "
      ]
     },
     "execution_count": 6,
     "metadata": {},
     "output_type": "execute_result"
    }
   ],
   "source": [
    "df.describe(include='all')"
   ]
  },
  {
   "cell_type": "code",
   "execution_count": 7,
   "id": "897d9e8c",
   "metadata": {},
   "outputs": [
    {
     "data": {
      "text/plain": [
       "Region              0\n",
       "Prefecture          5\n",
       "City                0\n",
       "Link                0\n",
       "Description         0\n",
       "Rating             17\n",
       "Visits              0\n",
       "Recommendation    164\n",
       "dtype: int64"
      ]
     },
     "execution_count": 7,
     "metadata": {},
     "output_type": "execute_result"
    }
   ],
   "source": [
    "df.isnull().sum()"
   ]
  },
  {
   "cell_type": "code",
   "execution_count": 8,
   "id": "26c6e6d9",
   "metadata": {},
   "outputs": [
    {
     "data": {
      "text/plain": [
       "Region             object\n",
       "Prefecture         object\n",
       "City               object\n",
       "Link               object\n",
       "Description        object\n",
       "Rating            float64\n",
       "Visits             object\n",
       "Recommendation     object\n",
       "dtype: object"
      ]
     },
     "execution_count": 8,
     "metadata": {},
     "output_type": "execute_result"
    }
   ],
   "source": [
    "df.dtypes"
   ]
  },
  {
   "cell_type": "code",
   "execution_count": 9,
   "id": "6ab80931",
   "metadata": {},
   "outputs": [
    {
     "data": {
      "text/plain": [
       "Region              9\n",
       "Prefecture         47\n",
       "City              211\n",
       "Link              211\n",
       "Description       211\n",
       "Rating             23\n",
       "Visits            191\n",
       "Recommendation      3\n",
       "dtype: int64"
      ]
     },
     "execution_count": 9,
     "metadata": {},
     "output_type": "execute_result"
    }
   ],
   "source": [
    "df.nunique()"
   ]
  },
  {
   "cell_type": "code",
   "execution_count": 10,
   "id": "d5881e53",
   "metadata": {},
   "outputs": [
    {
     "data": {
      "text/plain": [
       "array(['Hokkaido', 'Tohoku', 'Kanto', 'Chubu', 'Kansai', 'Chugoku',\n",
       "       'Shikoku', 'Kyushu', 'Okinawa'], dtype=object)"
      ]
     },
     "execution_count": 10,
     "metadata": {},
     "output_type": "execute_result"
    }
   ],
   "source": [
    "df['Region'].unique()"
   ]
  },
  {
   "cell_type": "code",
   "execution_count": 11,
   "id": "9931aa22",
   "metadata": {},
   "outputs": [
    {
     "data": {
      "text/plain": [
       "array(['Cities and Resort Towns', 'National Parks', 'Aomori', 'Akita',\n",
       "       'Iwate', 'Yamagata', 'Miyagi', 'Fukushima', 'Tokyo Metropolis',\n",
       "       'Kanagawa', 'Chiba', 'Saitama', 'Gunma', 'Tochigi', 'Ibaraki',\n",
       "       'Aichi', 'Shizuoka', 'Gifu', 'Niigata', 'Nagano', 'Yamanashi',\n",
       "       'Toyama', 'Ishikawa', 'Fukui', 'Kyoto', 'Osaka', 'Nara', 'Hyogo',\n",
       "       'Shiga', 'Wakayama', 'Mie', 'Okayama', 'Hiroshima', 'Yamaguchi',\n",
       "       'Tottori', 'Shimane', 'Kagawa', 'Ehime', 'Kochi', 'Tokushima',\n",
       "       'Fukuoka', 'Saga', 'Nagasaki', 'Kumamoto', 'Oita', 'Miyazaki',\n",
       "       'Kagoshima', nan], dtype=object)"
      ]
     },
     "execution_count": 11,
     "metadata": {},
     "output_type": "execute_result"
    }
   ],
   "source": [
    "df['Prefecture'].unique()"
   ]
  },
  {
   "cell_type": "markdown",
   "id": "01c345ad",
   "metadata": {},
   "source": [
    "# Data preparation"
   ]
  },
  {
   "cell_type": "markdown",
   "id": "9d3dae14",
   "metadata": {},
   "source": [
    "## Checking null values - Check if there are any null values in each column"
   ]
  },
  {
   "cell_type": "markdown",
   "id": "01340b76",
   "metadata": {},
   "source": [
    "### Region"
   ]
  },
  {
   "cell_type": "code",
   "execution_count": 12,
   "id": "c5539267",
   "metadata": {},
   "outputs": [
    {
     "data": {
      "text/plain": [
       "False"
      ]
     },
     "execution_count": 12,
     "metadata": {},
     "output_type": "execute_result"
    }
   ],
   "source": [
    "df['Region'].isna().any()"
   ]
  },
  {
   "cell_type": "markdown",
   "id": "fa82e153",
   "metadata": {},
   "source": [
    "### Prefecture"
   ]
  },
  {
   "cell_type": "code",
   "execution_count": 13,
   "id": "1019490e",
   "metadata": {
    "scrolled": true
   },
   "outputs": [
    {
     "data": {
      "text/plain": [
       "True"
      ]
     },
     "execution_count": 13,
     "metadata": {},
     "output_type": "execute_result"
    }
   ],
   "source": [
    "df['Prefecture'].isna().any()"
   ]
  },
  {
   "cell_type": "code",
   "execution_count": 14,
   "id": "e2ea91fe",
   "metadata": {},
   "outputs": [],
   "source": [
    "# replace Nan in prefecture with Okinawa since it is also a prefecture\n",
    "df.loc[(df['Region'] == 'Okinawa') & (df['Prefecture'].isna()), 'Prefecture'] = 'Okinawa'"
   ]
  },
  {
   "cell_type": "code",
   "execution_count": 15,
   "id": "1bf362d5",
   "metadata": {},
   "outputs": [
    {
     "data": {
      "text/plain": [
       "False"
      ]
     },
     "execution_count": 15,
     "metadata": {},
     "output_type": "execute_result"
    }
   ],
   "source": [
    "# verify\n",
    "df['Prefecture'].isna().any()"
   ]
  },
  {
   "cell_type": "code",
   "execution_count": 16,
   "id": "3f3d5b77",
   "metadata": {},
   "outputs": [
    {
     "data": {
      "text/plain": [
       "array(['Cities and Resort Towns', 'National Parks', 'Aomori', 'Akita',\n",
       "       'Iwate', 'Yamagata', 'Miyagi', 'Fukushima', 'Tokyo Metropolis',\n",
       "       'Kanagawa', 'Chiba', 'Saitama', 'Gunma', 'Tochigi', 'Ibaraki',\n",
       "       'Aichi', 'Shizuoka', 'Gifu', 'Niigata', 'Nagano', 'Yamanashi',\n",
       "       'Toyama', 'Ishikawa', 'Fukui', 'Kyoto', 'Osaka', 'Nara', 'Hyogo',\n",
       "       'Shiga', 'Wakayama', 'Mie', 'Okayama', 'Hiroshima', 'Yamaguchi',\n",
       "       'Tottori', 'Shimane', 'Kagawa', 'Ehime', 'Kochi', 'Tokushima',\n",
       "       'Fukuoka', 'Saga', 'Nagasaki', 'Kumamoto', 'Oita', 'Miyazaki',\n",
       "       'Kagoshima', 'Okinawa'], dtype=object)"
      ]
     },
     "execution_count": 16,
     "metadata": {},
     "output_type": "execute_result"
    }
   ],
   "source": [
    "df['Prefecture'].unique()"
   ]
  },
  {
   "cell_type": "markdown",
   "id": "168a61dc",
   "metadata": {},
   "source": [
    "### City"
   ]
  },
  {
   "cell_type": "code",
   "execution_count": 17,
   "id": "35f93ce7",
   "metadata": {},
   "outputs": [
    {
     "data": {
      "text/plain": [
       "False"
      ]
     },
     "execution_count": 17,
     "metadata": {},
     "output_type": "execute_result"
    }
   ],
   "source": [
    "df['City'].isna().any()"
   ]
  },
  {
   "cell_type": "markdown",
   "id": "39a82047",
   "metadata": {},
   "source": [
    "Link"
   ]
  },
  {
   "cell_type": "code",
   "execution_count": 18,
   "id": "6e32a195",
   "metadata": {},
   "outputs": [
    {
     "data": {
      "text/plain": [
       "False"
      ]
     },
     "execution_count": 18,
     "metadata": {},
     "output_type": "execute_result"
    }
   ],
   "source": [
    "df['Link'].isna().any()"
   ]
  },
  {
   "cell_type": "markdown",
   "id": "f94bfd78",
   "metadata": {},
   "source": [
    "### Description"
   ]
  },
  {
   "cell_type": "code",
   "execution_count": 19,
   "id": "36f578f3",
   "metadata": {},
   "outputs": [
    {
     "data": {
      "text/plain": [
       "False"
      ]
     },
     "execution_count": 19,
     "metadata": {},
     "output_type": "execute_result"
    }
   ],
   "source": [
    "df['Description'].isna().any()"
   ]
  },
  {
   "cell_type": "markdown",
   "id": "0163ace3",
   "metadata": {},
   "source": [
    "### Rating"
   ]
  },
  {
   "cell_type": "code",
   "execution_count": 20,
   "id": "92d39ead",
   "metadata": {},
   "outputs": [
    {
     "data": {
      "text/plain": [
       "True"
      ]
     },
     "execution_count": 20,
     "metadata": {},
     "output_type": "execute_result"
    }
   ],
   "source": [
    "df['Rating'].isna().any()"
   ]
  },
  {
   "cell_type": "code",
   "execution_count": 21,
   "id": "c4fd28a1",
   "metadata": {},
   "outputs": [],
   "source": [
    "# replace NaN rating with 0, might not be popular enough for people to visit\n",
    "df['Rating'] = df['Rating'].fillna(0)"
   ]
  },
  {
   "cell_type": "code",
   "execution_count": 22,
   "id": "78f4bc59",
   "metadata": {},
   "outputs": [
    {
     "data": {
      "text/plain": [
       "False"
      ]
     },
     "execution_count": 22,
     "metadata": {},
     "output_type": "execute_result"
    }
   ],
   "source": [
    "# verify\n",
    "df['Rating'].isna().any()"
   ]
  },
  {
   "cell_type": "markdown",
   "id": "85cba1d4",
   "metadata": {},
   "source": [
    "### Visits"
   ]
  },
  {
   "cell_type": "code",
   "execution_count": 23,
   "id": "a6533040",
   "metadata": {},
   "outputs": [
    {
     "data": {
      "text/plain": [
       "False"
      ]
     },
     "execution_count": 23,
     "metadata": {},
     "output_type": "execute_result"
    }
   ],
   "source": [
    "df['Visits'].isna().any()"
   ]
  },
  {
   "cell_type": "markdown",
   "id": "158916a4",
   "metadata": {},
   "source": [
    "### Recommendation"
   ]
  },
  {
   "cell_type": "code",
   "execution_count": 24,
   "id": "a6931db3",
   "metadata": {},
   "outputs": [
    {
     "data": {
      "text/plain": [
       "True"
      ]
     },
     "execution_count": 24,
     "metadata": {},
     "output_type": "execute_result"
    }
   ],
   "source": [
    "df['Recommendation'].isna().any()"
   ]
  },
  {
   "cell_type": "code",
   "execution_count": 25,
   "id": "267d98fc",
   "metadata": {},
   "outputs": [],
   "source": [
    "# replace NaN value with Optional places others can visit\n",
    "df['Recommendation'] = df['Recommendation'].fillna(\"Optional\")"
   ]
  },
  {
   "cell_type": "code",
   "execution_count": 26,
   "id": "bee4d7aa",
   "metadata": {},
   "outputs": [
    {
     "data": {
      "text/plain": [
       "False"
      ]
     },
     "execution_count": 26,
     "metadata": {},
     "output_type": "execute_result"
    }
   ],
   "source": [
    "# verify\n",
    "df['Recommendation'].isna().any()"
   ]
  },
  {
   "cell_type": "code",
   "execution_count": 27,
   "id": "6df8d67f",
   "metadata": {},
   "outputs": [
    {
     "data": {
      "text/plain": [
       "array(['Recommended', 'Optional', 'Highly Recommended', 'Must Visit'],\n",
       "      dtype=object)"
      ]
     },
     "execution_count": 27,
     "metadata": {},
     "output_type": "execute_result"
    }
   ],
   "source": [
    "# verify\n",
    "df['Recommendation'].unique()"
   ]
  },
  {
   "cell_type": "markdown",
   "id": "de37886d",
   "metadata": {},
   "source": [
    "# Data cleaning"
   ]
  },
  {
   "cell_type": "markdown",
   "id": "5e7e0e9c",
   "metadata": {},
   "source": [
    "## Removing duplicate entries"
   ]
  },
  {
   "cell_type": "code",
   "execution_count": 28,
   "id": "f7481000",
   "metadata": {},
   "outputs": [
    {
     "data": {
      "text/plain": [
       "367"
      ]
     },
     "execution_count": 28,
     "metadata": {},
     "output_type": "execute_result"
    }
   ],
   "source": [
    "len(df)"
   ]
  },
  {
   "cell_type": "code",
   "execution_count": 29,
   "id": "ddd1509e",
   "metadata": {},
   "outputs": [],
   "source": [
    "# drop duplicates in dataset\n",
    "df = df.drop_duplicates()"
   ]
  },
  {
   "cell_type": "code",
   "execution_count": 30,
   "id": "385e4e5e",
   "metadata": {},
   "outputs": [
    {
     "data": {
      "text/plain": [
       "212"
      ]
     },
     "execution_count": 30,
     "metadata": {},
     "output_type": "execute_result"
    }
   ],
   "source": [
    "len(df)"
   ]
  },
  {
   "cell_type": "code",
   "execution_count": 31,
   "id": "68d4d988",
   "metadata": {},
   "outputs": [
    {
     "data": {
      "text/html": [
       "<div>\n",
       "<style scoped>\n",
       "    .dataframe tbody tr th:only-of-type {\n",
       "        vertical-align: middle;\n",
       "    }\n",
       "\n",
       "    .dataframe tbody tr th {\n",
       "        vertical-align: top;\n",
       "    }\n",
       "\n",
       "    .dataframe thead th {\n",
       "        text-align: right;\n",
       "    }\n",
       "</style>\n",
       "<table border=\"1\" class=\"dataframe\">\n",
       "  <thead>\n",
       "    <tr style=\"text-align: right;\">\n",
       "      <th></th>\n",
       "      <th>Region</th>\n",
       "      <th>Prefecture</th>\n",
       "      <th>City</th>\n",
       "      <th>Link</th>\n",
       "      <th>Description</th>\n",
       "      <th>Rating</th>\n",
       "      <th>Visits</th>\n",
       "      <th>Recommendation</th>\n",
       "    </tr>\n",
       "  </thead>\n",
       "  <tbody>\n",
       "    <tr>\n",
       "      <th>0</th>\n",
       "      <td>Hokkaido</td>\n",
       "      <td>Cities and Resort Towns</td>\n",
       "      <td>Niseko</td>\n",
       "      <td>https://www.japan-guide.com/e/e6720.html</td>\n",
       "      <td>Leading snow resort with lots of powder snow.</td>\n",
       "      <td>4.1</td>\n",
       "      <td>373</td>\n",
       "      <td>Recommended</td>\n",
       "    </tr>\n",
       "    <tr>\n",
       "      <th>1</th>\n",
       "      <td>Hokkaido</td>\n",
       "      <td>Cities and Resort Towns</td>\n",
       "      <td>Sapporo</td>\n",
       "      <td>https://www.japan-guide.com/e/e2163.html</td>\n",
       "      <td>The largest city on the island of Hokkaido.</td>\n",
       "      <td>4.0</td>\n",
       "      <td>2,572</td>\n",
       "      <td>Recommended</td>\n",
       "    </tr>\n",
       "    <tr>\n",
       "      <th>2</th>\n",
       "      <td>Hokkaido</td>\n",
       "      <td>Cities and Resort Towns</td>\n",
       "      <td>Furano</td>\n",
       "      <td>https://www.japan-guide.com/e/e6825.html</td>\n",
       "      <td>Towns with beautiful lavender and flower fields.</td>\n",
       "      <td>4.0</td>\n",
       "      <td>886</td>\n",
       "      <td>Recommended</td>\n",
       "    </tr>\n",
       "    <tr>\n",
       "      <th>3</th>\n",
       "      <td>Hokkaido</td>\n",
       "      <td>Cities and Resort Towns</td>\n",
       "      <td>Noboribetsu</td>\n",
       "      <td>https://www.japan-guide.com/e/e6750.html</td>\n",
       "      <td>Hokkaido's most famous hot spring resort.</td>\n",
       "      <td>4.0</td>\n",
       "      <td>619</td>\n",
       "      <td>Recommended</td>\n",
       "    </tr>\n",
       "    <tr>\n",
       "      <th>4</th>\n",
       "      <td>Hokkaido</td>\n",
       "      <td>Cities and Resort Towns</td>\n",
       "      <td>Hakodate</td>\n",
       "      <td>https://www.japan-guide.com/e/e5350.html</td>\n",
       "      <td>Southernmost city on Hokkaido.</td>\n",
       "      <td>3.9</td>\n",
       "      <td>1,408</td>\n",
       "      <td>Recommended</td>\n",
       "    </tr>\n",
       "  </tbody>\n",
       "</table>\n",
       "</div>"
      ],
      "text/plain": [
       "     Region               Prefecture         City  \\\n",
       "0  Hokkaido  Cities and Resort Towns       Niseko   \n",
       "1  Hokkaido  Cities and Resort Towns      Sapporo   \n",
       "2  Hokkaido  Cities and Resort Towns       Furano   \n",
       "3  Hokkaido  Cities and Resort Towns  Noboribetsu   \n",
       "4  Hokkaido  Cities and Resort Towns     Hakodate   \n",
       "\n",
       "                                       Link  \\\n",
       "0  https://www.japan-guide.com/e/e6720.html   \n",
       "1  https://www.japan-guide.com/e/e2163.html   \n",
       "2  https://www.japan-guide.com/e/e6825.html   \n",
       "3  https://www.japan-guide.com/e/e6750.html   \n",
       "4  https://www.japan-guide.com/e/e5350.html   \n",
       "\n",
       "                                        Description  Rating Visits  \\\n",
       "0     Leading snow resort with lots of powder snow.     4.1    373   \n",
       "1       The largest city on the island of Hokkaido.     4.0  2,572   \n",
       "2  Towns with beautiful lavender and flower fields.     4.0    886   \n",
       "3         Hokkaido's most famous hot spring resort.     4.0    619   \n",
       "4                    Southernmost city on Hokkaido.     3.9  1,408   \n",
       "\n",
       "  Recommendation  \n",
       "0    Recommended  \n",
       "1    Recommended  \n",
       "2    Recommended  \n",
       "3    Recommended  \n",
       "4    Recommended  "
      ]
     },
     "execution_count": 31,
     "metadata": {},
     "output_type": "execute_result"
    }
   ],
   "source": [
    "df.head()"
   ]
  },
  {
   "cell_type": "code",
   "execution_count": 33,
   "id": "7c8c618c",
   "metadata": {},
   "outputs": [],
   "source": [
    "# export to csv\n",
    "df.to_csv('japan_destination_cleaned_new.csv', index=False)"
   ]
  }
 ],
 "metadata": {
  "kernelspec": {
   "display_name": "Python 3",
   "language": "python",
   "name": "python3"
  },
  "language_info": {
   "codemirror_mode": {
    "name": "ipython",
    "version": 3
   },
   "file_extension": ".py",
   "mimetype": "text/x-python",
   "name": "python",
   "nbconvert_exporter": "python",
   "pygments_lexer": "ipython3",
   "version": "3.8.8"
  }
 },
 "nbformat": 4,
 "nbformat_minor": 5
}
